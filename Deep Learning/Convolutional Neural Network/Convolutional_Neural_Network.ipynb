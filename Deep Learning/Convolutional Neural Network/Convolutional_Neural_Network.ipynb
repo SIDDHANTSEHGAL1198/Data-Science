{
 "cells": [
  {
   "cell_type": "markdown",
   "metadata": {
    "colab_type": "text",
    "id": "3DR-eO17geWu"
   },
   "source": [
    "# Convolutional Neural Network"
   ]
  },
  {
   "cell_type": "markdown",
   "metadata": {
    "colab_type": "text",
    "id": "EMefrVPCg-60"
   },
   "source": [
    "### Importing the libraries"
   ]
  },
  {
   "cell_type": "code",
   "execution_count": 1,
   "metadata": {
    "colab": {},
    "colab_type": "code",
    "id": "SFO9P_H86Z6f"
   },
   "outputs": [
    {
     "name": "stderr",
     "output_type": "stream",
     "text": [
      "Using TensorFlow backend.\n"
     ]
    }
   ],
   "source": [
    "import tensorflow as tf\n",
    "from keras.preprocessing.image import ImageDataGenerator"
   ]
  },
  {
   "cell_type": "code",
   "execution_count": 2,
   "metadata": {
    "colab": {
     "base_uri": "https://localhost:8080/",
     "height": 34
    },
    "colab_type": "code",
    "id": "pUfh-t986ner",
    "outputId": "4872bb46-210e-4aaf-d1b3-a81beda61b9b"
   },
   "outputs": [
    {
     "data": {
      "text/plain": [
       "'2.1.0'"
      ]
     },
     "execution_count": 2,
     "metadata": {},
     "output_type": "execute_result"
    }
   ],
   "source": [
    "tf.__version__"
   ]
  },
  {
   "cell_type": "markdown",
   "metadata": {
    "colab_type": "text",
    "id": "oxQxCBWyoGPE"
   },
   "source": [
    "## Part 1 - Data Preprocessing"
   ]
  },
  {
   "cell_type": "markdown",
   "metadata": {
    "colab_type": "text",
    "id": "MvE-heJNo3GG"
   },
   "source": [
    "### Preprocessing the Training set"
   ]
  },
  {
   "cell_type": "code",
   "execution_count": 9,
   "metadata": {
    "colab": {},
    "colab_type": "code",
    "id": "hKGL4C4c7SCH"
   },
   "outputs": [
    {
     "name": "stdout",
     "output_type": "stream",
     "text": [
      "Found 8008 images belonging to 2 classes.\n"
     ]
    }
   ],
   "source": [
    "train_datagen = ImageDataGenerator(\n",
    "        rescale=1./255,\n",
    "        shear_range=0.2,\n",
    "        zoom_range=0.2,\n",
    "        horizontal_flip=True)\n",
    "\n",
    "training_set = train_datagen.flow_from_directory(\n",
    "        'C:/Users/DELL/dataset/training_set',\n",
    "        target_size=(64, 64),\n",
    "        batch_size=32,\n",
    "        class_mode='binary')"
   ]
  },
  {
   "cell_type": "markdown",
   "metadata": {
    "colab_type": "text",
    "id": "mrCMmGw9pHys"
   },
   "source": [
    "### Preprocessing the Test set"
   ]
  },
  {
   "cell_type": "code",
   "execution_count": 11,
   "metadata": {
    "colab": {},
    "colab_type": "code",
    "id": "5XaFum3rFPA7"
   },
   "outputs": [
    {
     "name": "stdout",
     "output_type": "stream",
     "text": [
      "Found 2000 images belonging to 2 classes.\n"
     ]
    }
   ],
   "source": [
    "test_datagen = ImageDataGenerator(rescale=1./255)\n",
    "\n",
    "test_set = test_datagen.flow_from_directory(\n",
    "        'C:/Users/DELL/dataset/test_set',\n",
    "        target_size=(64,64),\n",
    "        batch_size=32,\n",
    "        class_mode='binary')"
   ]
  },
  {
   "cell_type": "markdown",
   "metadata": {
    "colab_type": "text",
    "id": "af8O4l90gk7B"
   },
   "source": [
    "## Part 2 - Building the CNN"
   ]
  },
  {
   "cell_type": "markdown",
   "metadata": {
    "colab_type": "text",
    "id": "ces1gXY2lmoX"
   },
   "source": [
    "### Initialising the CNN"
   ]
  },
  {
   "cell_type": "code",
   "execution_count": 12,
   "metadata": {
    "colab": {},
    "colab_type": "code",
    "id": "1mjFigO-HRxn"
   },
   "outputs": [],
   "source": [
    "cnn=tf.keras.models.Sequential()"
   ]
  },
  {
   "cell_type": "markdown",
   "metadata": {
    "colab_type": "text",
    "id": "u5YJj_XMl5LF"
   },
   "source": [
    "### Step 1 - Convolution"
   ]
  },
  {
   "cell_type": "code",
   "execution_count": 14,
   "metadata": {
    "colab": {},
    "colab_type": "code",
    "id": "RwHhqta3HWs7"
   },
   "outputs": [],
   "source": [
    "cnn.add(tf.keras.layers.Conv2D(filters=32,kernel_size=3,activation='relu',input_shape=[64,64,3]))"
   ]
  },
  {
   "cell_type": "markdown",
   "metadata": {
    "colab_type": "text",
    "id": "tf87FpvxmNOJ"
   },
   "source": [
    "### Step 2 - Pooling"
   ]
  },
  {
   "cell_type": "code",
   "execution_count": 15,
   "metadata": {
    "colab": {},
    "colab_type": "code",
    "id": "AzLvUDn3RoFA"
   },
   "outputs": [],
   "source": [
    "cnn.add(tf.keras.layers.MaxPool2D(pool_size=2,strides=2))"
   ]
  },
  {
   "cell_type": "markdown",
   "metadata": {
    "colab_type": "text",
    "id": "xaTOgD8rm4mU"
   },
   "source": [
    "### Adding a second convolutional layer"
   ]
  },
  {
   "cell_type": "code",
   "execution_count": 17,
   "metadata": {
    "colab": {},
    "colab_type": "code",
    "id": "2EphVBfVTfx1"
   },
   "outputs": [],
   "source": [
    "cnn.add(tf.keras.layers.Conv2D(filters=32,kernel_size=3,activation='relu'))\n",
    "cnn.add(tf.keras.layers.MaxPool2D(pool_size=2,strides=2))"
   ]
  },
  {
   "cell_type": "markdown",
   "metadata": {
    "colab_type": "text",
    "id": "tmiEuvTunKfk"
   },
   "source": [
    "### Step 3 - Flattening"
   ]
  },
  {
   "cell_type": "code",
   "execution_count": 18,
   "metadata": {
    "colab": {},
    "colab_type": "code",
    "id": "HPpJQz5ST-O5"
   },
   "outputs": [],
   "source": [
    "cnn.add(tf.keras.layers.Flatten())"
   ]
  },
  {
   "cell_type": "markdown",
   "metadata": {
    "colab_type": "text",
    "id": "dAoSECOm203v"
   },
   "source": [
    "### Step 4 - Full Connection"
   ]
  },
  {
   "cell_type": "code",
   "execution_count": 19,
   "metadata": {
    "colab": {},
    "colab_type": "code",
    "id": "dy50GZApUF_3"
   },
   "outputs": [],
   "source": [
    "cnn.add(tf.keras.layers.Dense(units=128,activation='relu'))"
   ]
  },
  {
   "cell_type": "markdown",
   "metadata": {
    "colab_type": "text",
    "id": "yTldFvbX28Na"
   },
   "source": [
    "### Step 5 - Output Layer"
   ]
  },
  {
   "cell_type": "code",
   "execution_count": 20,
   "metadata": {
    "colab": {},
    "colab_type": "code",
    "id": "BaR7vk-3U_Ao"
   },
   "outputs": [],
   "source": [
    "cnn.add(tf.keras.layers.Dense(units=1,activation='sigmoid'))"
   ]
  },
  {
   "cell_type": "markdown",
   "metadata": {
    "colab_type": "text",
    "id": "D6XkI90snSDl"
   },
   "source": [
    "## Part 3 - Training the CNN"
   ]
  },
  {
   "cell_type": "markdown",
   "metadata": {
    "colab_type": "text",
    "id": "vfrFQACEnc6i"
   },
   "source": [
    "### Compiling the CNN"
   ]
  },
  {
   "cell_type": "code",
   "execution_count": 21,
   "metadata": {
    "colab": {},
    "colab_type": "code",
    "id": "q9TET7llbCjI"
   },
   "outputs": [],
   "source": [
    "cnn.compile(optimizer='adam',loss='binary_crossentropy',metrics=['accuracy'])"
   ]
  },
  {
   "cell_type": "markdown",
   "metadata": {
    "colab_type": "text",
    "id": "ehS-v3MIpX2h"
   },
   "source": [
    "### Training the CNN on the Training set and evaluating it on the Test set"
   ]
  },
  {
   "cell_type": "code",
   "execution_count": 22,
   "metadata": {
    "colab": {},
    "colab_type": "code",
    "id": "JuicFilhcacI"
   },
   "outputs": [
    {
     "name": "stdout",
     "output_type": "stream",
     "text": [
      "WARNING:tensorflow:sample_weight modes were coerced from\n",
      "  ...\n",
      "    to  \n",
      "  ['...']\n",
      "WARNING:tensorflow:sample_weight modes were coerced from\n",
      "  ...\n",
      "    to  \n",
      "  ['...']\n",
      "Train for 251 steps, validate for 63 steps\n",
      "Epoch 1/25\n",
      "251/251 [==============================] - 99s 394ms/step - loss: 0.6853 - accuracy: 0.5500 - val_loss: 0.6824 - val_accuracy: 0.5745\n",
      "Epoch 2/25\n",
      "251/251 [==============================] - 73s 289ms/step - loss: 0.6394 - accuracy: 0.6399 - val_loss: 0.5835 - val_accuracy: 0.6830\n",
      "Epoch 3/25\n",
      "251/251 [==============================] - 54s 216ms/step - loss: 0.5934 - accuracy: 0.6873 - val_loss: 0.5427 - val_accuracy: 0.7320\n",
      "Epoch 4/25\n",
      "251/251 [==============================] - 47s 189ms/step - loss: 0.5581 - accuracy: 0.7113 - val_loss: 0.5371 - val_accuracy: 0.7320\n",
      "Epoch 5/25\n",
      "251/251 [==============================] - 49s 194ms/step - loss: 0.5215 - accuracy: 0.7415 - val_loss: 0.4921 - val_accuracy: 0.7690\n",
      "Epoch 6/25\n",
      "251/251 [==============================] - 48s 192ms/step - loss: 0.4996 - accuracy: 0.7555 - val_loss: 0.4999 - val_accuracy: 0.7680\n",
      "Epoch 7/25\n",
      "251/251 [==============================] - 49s 194ms/step - loss: 0.4853 - accuracy: 0.7620 - val_loss: 0.4914 - val_accuracy: 0.7750\n",
      "Epoch 8/25\n",
      "251/251 [==============================] - 49s 194ms/step - loss: 0.4589 - accuracy: 0.7803 - val_loss: 0.4815 - val_accuracy: 0.7735\n",
      "Epoch 9/25\n",
      "251/251 [==============================] - 48s 192ms/step - loss: 0.4485 - accuracy: 0.7902 - val_loss: 0.4852 - val_accuracy: 0.7790\n",
      "Epoch 10/25\n",
      "251/251 [==============================] - 49s 195ms/step - loss: 0.4305 - accuracy: 0.7968 - val_loss: 0.4970 - val_accuracy: 0.7560\n",
      "Epoch 11/25\n",
      "251/251 [==============================] - 350s 1s/step - loss: 0.4197 - accuracy: 0.8094 - val_loss: 0.4632 - val_accuracy: 0.7820\n",
      "Epoch 12/25\n",
      "251/251 [==============================] - 189s 753ms/step - loss: 0.4061 - accuracy: 0.8174 - val_loss: 0.4747 - val_accuracy: 0.7830\n",
      "Epoch 13/25\n",
      "251/251 [==============================] - 45s 178ms/step - loss: 0.3864 - accuracy: 0.8268 - val_loss: 0.4885 - val_accuracy: 0.7830\n",
      "Epoch 14/25\n",
      "251/251 [==============================] - 50s 199ms/step - loss: 0.3750 - accuracy: 0.8305 - val_loss: 0.4630 - val_accuracy: 0.7985\n",
      "Epoch 15/25\n",
      "251/251 [==============================] - 48s 190ms/step - loss: 0.3582 - accuracy: 0.8397 - val_loss: 0.5393 - val_accuracy: 0.7720\n",
      "Epoch 16/25\n",
      "251/251 [==============================] - 48s 193ms/step - loss: 0.3496 - accuracy: 0.8450 - val_loss: 0.4674 - val_accuracy: 0.7975\n",
      "Epoch 17/25\n",
      "251/251 [==============================] - 53s 212ms/step - loss: 0.3270 - accuracy: 0.8538 - val_loss: 0.5563 - val_accuracy: 0.7475\n",
      "Epoch 18/25\n",
      "251/251 [==============================] - 47s 188ms/step - loss: 0.3095 - accuracy: 0.8678 - val_loss: 0.4922 - val_accuracy: 0.7875\n",
      "Epoch 19/25\n",
      "251/251 [==============================] - 48s 193ms/step - loss: 0.2954 - accuracy: 0.8708 - val_loss: 0.5202 - val_accuracy: 0.7955\n",
      "Epoch 20/25\n",
      "251/251 [==============================] - 47s 188ms/step - loss: 0.2918 - accuracy: 0.8765 - val_loss: 0.4923 - val_accuracy: 0.7945\n",
      "Epoch 21/25\n",
      "251/251 [==============================] - 45s 177ms/step - loss: 0.2805 - accuracy: 0.8809 - val_loss: 0.5426 - val_accuracy: 0.7890\n",
      "Epoch 22/25\n",
      "251/251 [==============================] - 44s 177ms/step - loss: 0.2710 - accuracy: 0.8849 - val_loss: 0.5006 - val_accuracy: 0.8005\n",
      "Epoch 23/25\n",
      "251/251 [==============================] - 44s 175ms/step - loss: 0.2552 - accuracy: 0.8942 - val_loss: 0.5023 - val_accuracy: 0.7905\n",
      "Epoch 24/25\n",
      "251/251 [==============================] - 44s 176ms/step - loss: 0.2298 - accuracy: 0.9076 - val_loss: 0.5242 - val_accuracy: 0.7890\n",
      "Epoch 25/25\n",
      "251/251 [==============================] - 44s 176ms/step - loss: 0.2332 - accuracy: 0.9036 - val_loss: 0.5153 - val_accuracy: 0.8005\n"
     ]
    },
    {
     "data": {
      "text/plain": [
       "<tensorflow.python.keras.callbacks.History at 0x1b38e1d12c8>"
      ]
     },
     "execution_count": 22,
     "metadata": {},
     "output_type": "execute_result"
    }
   ],
   "source": [
    "cnn.fit(x=training_set,validation_data=test_set,epochs=25)"
   ]
  },
  {
   "cell_type": "markdown",
   "metadata": {
    "colab_type": "text",
    "id": "U3PZasO0006Z"
   },
   "source": [
    "## Part 4 - Making a single prediction"
   ]
  },
  {
   "cell_type": "code",
   "execution_count": 24,
   "metadata": {
    "colab": {},
    "colab_type": "code",
    "id": "ZiUZ1cgQU27g"
   },
   "outputs": [
    {
     "name": "stdout",
     "output_type": "stream",
     "text": [
      "dog\n"
     ]
    }
   ],
   "source": [
    "import numpy as np\n",
    "from keras.preprocessing.image import image\n",
    "\n",
    "test_image=image.load_img('C:/Users/DELL/dataset/single_prediction/dog.1.jpg',target_size=(64,64))\n",
    "test_image=image.img_to_array(test_image)\n",
    "test_image=np.expand_dims(test_image,axis=0)\n",
    "\n",
    "result=cnn.predict(test_image)\n",
    "training_set.class_indices\n",
    "\n",
    "if result[0][0]==1:\n",
    "    prediction='dog'\n",
    "if result[0][0]==0:\n",
    "    prediction='cat'\n",
    "\n",
    "print(prediction)"
   ]
  },
  {
   "cell_type": "code",
   "execution_count": null,
   "metadata": {},
   "outputs": [],
   "source": []
  }
 ],
 "metadata": {
  "colab": {
   "collapsed_sections": [],
   "name": "Convolutional Neural Network.ipynb",
   "provenance": [],
   "toc_visible": true
  },
  "kernelspec": {
   "display_name": "Python 3",
   "language": "python",
   "name": "python3"
  },
  "language_info": {
   "codemirror_mode": {
    "name": "ipython",
    "version": 3
   },
   "file_extension": ".py",
   "mimetype": "text/x-python",
   "name": "python",
   "nbconvert_exporter": "python",
   "pygments_lexer": "ipython3",
   "version": "3.7.7"
  }
 },
 "nbformat": 4,
 "nbformat_minor": 1
}
