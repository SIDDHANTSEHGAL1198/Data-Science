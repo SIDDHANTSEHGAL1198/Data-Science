{
 "cells": [
  {
   "cell_type": "markdown",
   "metadata": {},
   "source": [
    "# Importing libraries"
   ]
  },
  {
   "cell_type": "code",
   "execution_count": 3,
   "metadata": {},
   "outputs": [],
   "source": [
    "import numpy as np\n",
    "import matplotlib.pyplot as plt\n",
    "import pandas as pd"
   ]
  },
  {
   "cell_type": "markdown",
   "metadata": {},
   "source": [
    "# Importing dataset"
   ]
  },
  {
   "cell_type": "code",
   "execution_count": 4,
   "metadata": {},
   "outputs": [],
   "source": [
    "dataset=pd.read_csv('Ads_CTR_Optimisation.csv')"
   ]
  },
  {
   "cell_type": "markdown",
   "metadata": {},
   "source": [
    "# Implementing UCB"
   ]
  },
  {
   "cell_type": "code",
   "execution_count": 8,
   "metadata": {},
   "outputs": [],
   "source": [
    "import math\n",
    "N=1000\n",
    "d=10\n",
    "ads_selected=[]\n",
    "sum_of_rewards=[0]*d\n",
    "total_reward=[0]\n",
    "number_of_selections=[0]*d\n",
    "\n",
    "for n in range(0,N):\n",
    "    ad=0\n",
    "    max_upper_bound=0\n",
    "    for i in range(0,d):\n",
    "        if (number_of_selections[i]>0):\n",
    "            average_reward=sum_of_rewards[i]/number_of_selections[i]\n",
    "            delta_i=math.sqrt(3/2* math.log(n+1)/number_of_selections[i])\n",
    "            upper_bound=average_reward+delta_i\n",
    "        else:\n",
    "            upper_bound=1e400\n",
    "        if(upper_bound>max_upper_bound):\n",
    "            max_upper_bound=upper_bound\n",
    "            ad=i\n",
    "    ads_selected.append(ad)\n",
    "    number_of_selections[ad]=number_of_selections[ad]+1\n",
    "    reward = dataset.values[n, ad]\n",
    "    sum_of_rewards[ad] = sum_of_rewards[ad] + reward\n",
    "    total_reward = total_reward + reward\n",
    "            "
   ]
  },
  {
   "cell_type": "markdown",
   "metadata": {},
   "source": [
    "# Visualising the results"
   ]
  },
  {
   "cell_type": "code",
   "execution_count": 9,
   "metadata": {},
   "outputs": [
    {
     "data": {
      "image/png": "[encoded data removed]",
      "text/plain": [
       "<Figure size 432x288 with 1 Axes>"
      ]
     },
     "metadata": {
      "needs_background": "light"
     },
     "output_type": "display_data"
    }
   ],
   "source": [
    "plt.hist(ads_selected)\n",
    "plt.title('Histogram of ads selection')\n",
    "plt.xlabel('Ads')\n",
    "plt.ylabel('Number of times each ad was selected')\n",
    "plt.show()"
   ]
  },
  {
   "cell_type": "code",
   "execution_count": null,
   "metadata": {},
   "outputs": [],
   "source": []
  }
 ],
 "metadata": {
  "kernelspec": {
   "display_name": "Python 3",
   "language": "python",
   "name": "python3"
  },
  "language_info": {
   "codemirror_mode": {
    "name": "ipython",
    "version": 3
   },
   "file_extension": ".py",
   "mimetype": "text/x-python",
   "name": "python",
   "nbconvert_exporter": "python",
   "pygments_lexer": "ipython3",
   "version": "3.7.4"
  }
 },
 "nbformat": 4,
 "nbformat_minor": 2
}
