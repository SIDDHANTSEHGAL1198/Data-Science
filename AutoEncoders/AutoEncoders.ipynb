{
 "cells": [
  {
   "cell_type": "markdown",
   "metadata": {},
   "source": [
    "# Importing libraries\n"
   ]
  },
  {
   "cell_type": "code",
   "execution_count": 1,
   "metadata": {},
   "outputs": [],
   "source": [
    "import pandas as pd\n",
    "import numpy as np\n",
    "import torch\n",
    "import torch.nn as nn\n",
    "import torch.nn as parallel\n",
    "import torch.optim as optim\n",
    "import torch.utils.data\n",
    "from torch.autograd import Variable"
   ]
  },
  {
   "cell_type": "markdown",
   "metadata": {},
   "source": [
    "# Importing dataset"
   ]
  },
  {
   "cell_type": "code",
   "execution_count": 2,
   "metadata": {},
   "outputs": [],
   "source": [
    "movies=pd.read_csv('ml-1m/movies.dat',sep='::',header=None,engine='python',encoding='latin-1')\n",
    "users=pd.read_csv('ml-1m/users.dat',sep='::',header=None,engine='python',encoding='latin-1')\n",
    "ratings=pd.read_csv('ml-1m/ratings.dat',sep='::',header=None,engine='python',encoding='latin-1')"
   ]
  },
  {
   "cell_type": "markdown",
   "metadata": {},
   "source": [
    "# Preparing training set and test set"
   ]
  },
  {
   "cell_type": "code",
   "execution_count": 3,
   "metadata": {},
   "outputs": [],
   "source": [
    "training_set=pd.read_csv('C:/Users/DELL/ml-100k/u1.base',delimiter='\\t')\n",
    "training_set=np.array(training_set,dtype='int')\n",
    "\n",
    "test_set=pd.read_csv('C:/Users/DELL/ml-100k/u1.test',delimiter='\\t')\n",
    "test_set=np.array(test_set,dtype='int')"
   ]
  },
  {
   "cell_type": "markdown",
   "metadata": {},
   "source": [
    "# Getting the number of users and movies"
   ]
  },
  {
   "cell_type": "code",
   "execution_count": 4,
   "metadata": {},
   "outputs": [],
   "source": [
    "nb_users=int(max(max(training_set[:,0]),max(test_set[:,0])))\n",
    "nb_movies=int(max(max(training_set[:,1]),max(test_set[:,1])))"
   ]
  },
  {
   "cell_type": "markdown",
   "metadata": {},
   "source": [
    "# Converting the data into an array with users in lines& movies in columns"
   ]
  },
  {
   "cell_type": "code",
   "execution_count": 5,
   "metadata": {},
   "outputs": [],
   "source": [
    "def convert(data):\n",
    "    new_data=[]\n",
    "    \n",
    "    for id_users in range(1,nb_users+1):\n",
    "        id_movies=data[:,1][data[:,0]==id_users]\n",
    "        id_ratings=data[:,1][data[:,0]==id_users]\n",
    "        ratings=np.zeros(nb_movies)\n",
    "        ratings[id_movies-1]=id_ratings\n",
    "        new_data.append(list(ratings))\n",
    "    return new_data\n",
    "\n",
    "training_set=convert(training_set)\n",
    "test_set=convert(test_set)"
   ]
  },
  {
   "cell_type": "markdown",
   "metadata": {},
   "source": [
    "# Converting the data into Torchsensors"
   ]
  },
  {
   "cell_type": "code",
   "execution_count": 6,
   "metadata": {},
   "outputs": [],
   "source": [
    "training_set=torch.FloatTensor(training_set)\n",
    "test_set=torch.FloatTensor(test_set)"
   ]
  },
  {
   "cell_type": "markdown",
   "metadata": {},
   "source": [
    "# Creating the architecture of neural network"
   ]
  },
  {
   "cell_type": "code",
   "execution_count": 8,
   "metadata": {},
   "outputs": [],
   "source": [
    "class SAE(nn.Module):\n",
    "    def __init__(self, ):\n",
    "        super(SAE,self).__init__()\n",
    "        self.fc1=nn.Linear(nb_movies,20)\n",
    "        self.fc2=nn.Linear(20,10)\n",
    "        self.fc3=nn.Linear(10,20)\n",
    "        self.fc4=nn.Linear(20,nb_movies)\n",
    "        self.activation=nn.Sigmoid()\n",
    "        \n",
    "    def forward(self,x):\n",
    "        x=self.activation(self.fc1(x))\n",
    "        x=self.activation(self.fc2(x))\n",
    "        x=self.activation(self.fc3(x))\n",
    "        x=self.fc4(x)\n",
    "        return x\n",
    "    \n",
    "sae=SAE()\n",
    "criterion=nn.MSELoss()\n",
    "optimizer=optim.RMSprop(sae.parameters(),lr=0.01,weight_decay=0.5)"
   ]
  },
  {
   "cell_type": "markdown",
   "metadata": {},
   "source": [
    "# Training the SAE"
   ]
  },
  {
   "cell_type": "code",
   "execution_count": 9,
   "metadata": {},
   "outputs": [
    {
     "name": "stdout",
     "output_type": "stream",
     "text": [
      "epoch: 1loss: tensor(395.6605)\n",
      "epoch: 2loss: tensor(266.8954)\n",
      "epoch: 3loss: tensor(184.7113)\n",
      "epoch: 4loss: tensor(143.4373)\n",
      "epoch: 5loss: tensor(135.1012)\n",
      "epoch: 6loss: tensor(155.7924)\n",
      "epoch: 7loss: tensor(152.0426)\n",
      "epoch: 8loss: tensor(132.5025)\n",
      "epoch: 9loss: tensor(132.9315)\n",
      "epoch: 10loss: tensor(125.2810)\n",
      "epoch: 11loss: tensor(105.3850)\n",
      "epoch: 12loss: tensor(78.9706)\n",
      "epoch: 13loss: tensor(66.8387)\n",
      "epoch: 14loss: tensor(62.1048)\n",
      "epoch: 15loss: tensor(56.2652)\n",
      "epoch: 16loss: tensor(51.7755)\n",
      "epoch: 17loss: tensor(46.8818)\n",
      "epoch: 18loss: tensor(39.8914)\n",
      "epoch: 19loss: tensor(27.3421)\n",
      "epoch: 20loss: tensor(23.7596)\n",
      "epoch: 21loss: tensor(22.2375)\n",
      "epoch: 22loss: tensor(21.3877)\n",
      "epoch: 23loss: tensor(17.5207)\n",
      "epoch: 24loss: tensor(12.1817)\n",
      "epoch: 25loss: tensor(8.2791)\n",
      "epoch: 26loss: tensor(11.2466)\n",
      "epoch: 27loss: tensor(9.5856)\n",
      "epoch: 28loss: tensor(6.1593)\n",
      "epoch: 29loss: tensor(7.5583)\n",
      "epoch: 30loss: tensor(5.4689)\n",
      "epoch: 31loss: tensor(4.6712)\n",
      "epoch: 32loss: tensor(3.8125)\n",
      "epoch: 33loss: tensor(3.5538)\n",
      "epoch: 34loss: tensor(3.3538)\n",
      "epoch: 35loss: tensor(3.1678)\n",
      "epoch: 36loss: tensor(2.9950)\n",
      "epoch: 37loss: tensor(2.8339)\n",
      "epoch: 38loss: tensor(2.6842)\n",
      "epoch: 39loss: tensor(2.5437)\n",
      "epoch: 40loss: tensor(2.4126)\n",
      "epoch: 41loss: tensor(2.2899)\n",
      "epoch: 42loss: tensor(2.1748)\n",
      "epoch: 43loss: tensor(2.0667)\n",
      "epoch: 44loss: tensor(1.9652)\n",
      "epoch: 45loss: tensor(1.8697)\n",
      "epoch: 46loss: tensor(1.7799)\n",
      "epoch: 47loss: tensor(1.6952)\n",
      "epoch: 48loss: tensor(1.6153)\n",
      "epoch: 49loss: tensor(1.5399)\n",
      "epoch: 50loss: tensor(1.4687)\n",
      "epoch: 51loss: tensor(1.4012)\n",
      "epoch: 52loss: tensor(1.3375)\n",
      "epoch: 53loss: tensor(1.2774)\n",
      "epoch: 54loss: tensor(1.2205)\n",
      "epoch: 55loss: tensor(1.1664)\n",
      "epoch: 56loss: tensor(1.1153)\n",
      "epoch: 57loss: tensor(1.0667)\n",
      "epoch: 58loss: tensor(1.0206)\n",
      "epoch: 59loss: tensor(0.9769)\n",
      "epoch: 60loss: tensor(0.9353)\n",
      "epoch: 61loss: tensor(0.8960)\n",
      "epoch: 62loss: tensor(0.8586)\n",
      "epoch: 63loss: tensor(0.8230)\n",
      "epoch: 64loss: tensor(0.7890)\n",
      "epoch: 65loss: tensor(0.7569)\n",
      "epoch: 66loss: tensor(0.7262)\n",
      "epoch: 67loss: tensor(0.6970)\n",
      "epoch: 68loss: tensor(0.6692)\n",
      "epoch: 69loss: tensor(0.6427)\n",
      "epoch: 70loss: tensor(0.6175)\n",
      "epoch: 71loss: tensor(0.5935)\n",
      "epoch: 72loss: tensor(0.5706)\n",
      "epoch: 73loss: tensor(0.5488)\n",
      "epoch: 74loss: tensor(0.5280)\n",
      "epoch: 75loss: tensor(0.5081)\n",
      "epoch: 76loss: tensor(0.4893)\n",
      "epoch: 77loss: tensor(0.4712)\n",
      "epoch: 78loss: tensor(0.4541)\n",
      "epoch: 79loss: tensor(0.4376)\n",
      "epoch: 80loss: tensor(0.4221)\n",
      "epoch: 81loss: tensor(0.4071)\n",
      "epoch: 82loss: tensor(0.3929)\n",
      "epoch: 83loss: tensor(0.3792)\n",
      "epoch: 84loss: tensor(0.3663)\n",
      "epoch: 85loss: tensor(0.3538)\n",
      "epoch: 86loss: tensor(0.3421)\n",
      "epoch: 87loss: tensor(0.3307)\n",
      "epoch: 88loss: tensor(0.3200)\n",
      "epoch: 89loss: tensor(0.3096)\n",
      "epoch: 90loss: tensor(0.2998)\n",
      "epoch: 91loss: tensor(0.2904)\n",
      "epoch: 92loss: tensor(0.2815)\n",
      "epoch: 93loss: tensor(0.2728)\n",
      "epoch: 94loss: tensor(0.2647)\n",
      "epoch: 95loss: tensor(0.2568)\n",
      "epoch: 96loss: tensor(0.2494)\n",
      "epoch: 97loss: tensor(0.2422)\n",
      "epoch: 98loss: tensor(0.2354)\n",
      "epoch: 99loss: tensor(0.2288)\n",
      "epoch: 100loss: tensor(0.2226)\n",
      "epoch: 101loss: tensor(0.2166)\n",
      "epoch: 102loss: tensor(0.2109)\n",
      "epoch: 103loss: tensor(0.2054)\n",
      "epoch: 104loss: tensor(0.2002)\n",
      "epoch: 105loss: tensor(0.1952)\n",
      "epoch: 106loss: tensor(0.1904)\n",
      "epoch: 107loss: tensor(0.1858)\n",
      "epoch: 108loss: tensor(0.1815)\n",
      "epoch: 109loss: tensor(0.1773)\n",
      "epoch: 110loss: tensor(0.1733)\n",
      "epoch: 111loss: tensor(0.1694)\n",
      "epoch: 112loss: tensor(0.1658)\n",
      "epoch: 113loss: tensor(0.1623)\n",
      "epoch: 114loss: tensor(0.1589)\n",
      "epoch: 115loss: tensor(0.1557)\n",
      "epoch: 116loss: tensor(0.1527)\n",
      "epoch: 117loss: tensor(0.1497)\n",
      "epoch: 118loss: tensor(0.1469)\n",
      "epoch: 119loss: tensor(0.1442)\n",
      "epoch: 120loss: tensor(0.1417)\n",
      "epoch: 121loss: tensor(0.1392)\n",
      "epoch: 122loss: tensor(0.1368)\n",
      "epoch: 123loss: tensor(0.1346)\n",
      "epoch: 124loss: tensor(0.1324)\n",
      "epoch: 125loss: tensor(0.1304)\n",
      "epoch: 126loss: tensor(0.1284)\n",
      "epoch: 127loss: tensor(0.1265)\n",
      "epoch: 128loss: tensor(0.1247)\n",
      "epoch: 129loss: tensor(0.1230)\n",
      "epoch: 130loss: tensor(0.1214)\n",
      "epoch: 131loss: tensor(0.1198)\n",
      "epoch: 132loss: tensor(0.1183)\n",
      "epoch: 133loss: tensor(0.1169)\n",
      "epoch: 134loss: tensor(0.1155)\n",
      "epoch: 135loss: tensor(0.1142)\n",
      "epoch: 136loss: tensor(0.1129)\n",
      "epoch: 137loss: tensor(0.1117)\n",
      "epoch: 138loss: tensor(0.1106)\n",
      "epoch: 139loss: tensor(0.1095)\n",
      "epoch: 140loss: tensor(0.1084)\n",
      "epoch: 141loss: tensor(0.1075)\n",
      "epoch: 142loss: tensor(0.1065)\n",
      "epoch: 143loss: tensor(0.1056)\n",
      "epoch: 144loss: tensor(0.1047)\n",
      "epoch: 145loss: tensor(0.1039)\n",
      "epoch: 146loss: tensor(0.1031)\n",
      "epoch: 147loss: tensor(0.1024)\n",
      "epoch: 148loss: tensor(0.1017)\n",
      "epoch: 149loss: tensor(0.1010)\n",
      "epoch: 150loss: tensor(0.1004)\n",
      "epoch: 151loss: tensor(0.0997)\n",
      "epoch: 152loss: tensor(0.0992)\n",
      "epoch: 153loss: tensor(0.0986)\n",
      "epoch: 154loss: tensor(0.0981)\n",
      "epoch: 155loss: tensor(0.0976)\n",
      "epoch: 156loss: tensor(0.0971)\n",
      "epoch: 157loss: tensor(0.0966)\n",
      "epoch: 158loss: tensor(0.0962)\n",
      "epoch: 159loss: tensor(0.0958)\n",
      "epoch: 160loss: tensor(0.0954)\n",
      "epoch: 161loss: tensor(0.0951)\n",
      "epoch: 162loss: tensor(0.0947)\n",
      "epoch: 163loss: tensor(0.0944)\n",
      "epoch: 164loss: tensor(0.0941)\n",
      "epoch: 165loss: tensor(0.0938)\n",
      "epoch: 166loss: tensor(0.0935)\n",
      "epoch: 167loss: tensor(0.0933)\n",
      "epoch: 168loss: tensor(0.0930)\n",
      "epoch: 169loss: tensor(0.0928)\n",
      "epoch: 170loss: tensor(0.0926)\n",
      "epoch: 171loss: tensor(0.0924)\n",
      "epoch: 172loss: tensor(0.0922)\n",
      "epoch: 173loss: tensor(0.0920)\n",
      "epoch: 174loss: tensor(0.0918)\n",
      "epoch: 175loss: tensor(0.0917)\n",
      "epoch: 176loss: tensor(0.0915)\n",
      "epoch: 177loss: tensor(0.0914)\n",
      "epoch: 178loss: tensor(0.0913)\n",
      "epoch: 179loss: tensor(0.0911)\n",
      "epoch: 180loss: tensor(0.0910)\n",
      "epoch: 181loss: tensor(0.0909)\n",
      "epoch: 182loss: tensor(0.0908)\n",
      "epoch: 183loss: tensor(0.0907)\n",
      "epoch: 184loss: tensor(0.0906)\n",
      "epoch: 185loss: tensor(0.0906)\n",
      "epoch: 186loss: tensor(0.0905)\n",
      "epoch: 187loss: tensor(0.0904)\n",
      "epoch: 188loss: tensor(0.0904)\n",
      "epoch: 189loss: tensor(0.0903)\n",
      "epoch: 190loss: tensor(0.0902)\n",
      "epoch: 191loss: tensor(0.0902)\n",
      "epoch: 192loss: tensor(0.0901)\n",
      "epoch: 193loss: tensor(0.0901)\n",
      "epoch: 194loss: tensor(0.0901)\n",
      "epoch: 195loss: tensor(0.0900)\n",
      "epoch: 196loss: tensor(0.0900)\n",
      "epoch: 197loss: tensor(0.0899)\n",
      "epoch: 198loss: tensor(0.0899)\n",
      "epoch: 199loss: tensor(0.0899)\n",
      "epoch: 200loss: tensor(0.0899)\n"
     ]
    }
   ],
   "source": [
    "nb_epoch = 200\n",
    "for epoch in range(1, nb_epoch + 1):\n",
    "    train_loss = 0\n",
    "    s = 0.\n",
    "    for id_user in range(nb_users):\n",
    "        input = Variable(training_set[id_user]).unsqueeze(0)\n",
    "        target = input.clone()\n",
    "        if torch.sum(target.data > 0) > 0:\n",
    "            output = sae(input)\n",
    "            target.require_grad = False\n",
    "            output[target == 0] = 0\n",
    "            loss = criterion(output, target)\n",
    "            mean_corrector = nb_movies/float(torch.sum(target.data > 0) + 1e-10)\n",
    "            loss.backward()\n",
    "            train_loss += np.sqrt(loss.data*mean_corrector)\n",
    "            s += 1.\n",
    "            optimizer.step()\n",
    "    print('epoch: '+str(epoch)+'loss: '+ str(train_loss/s))"
   ]
  },
  {
   "cell_type": "markdown",
   "metadata": {},
   "source": [
    "# Testing the SAE"
   ]
  },
  {
   "cell_type": "code",
   "execution_count": 10,
   "metadata": {},
   "outputs": [
    {
     "name": "stdout",
     "output_type": "stream",
     "text": [
      "test loss: tensor(6.0803)\n"
     ]
    }
   ],
   "source": [
    "test_loss = 0\n",
    "s = 0.\n",
    "for id_user in range(nb_users):\n",
    "    input = Variable(training_set[id_user]).unsqueeze(0)\n",
    "    target = Variable(test_set[id_user]).unsqueeze(0)\n",
    "    if torch.sum(target.data > 0) > 0:\n",
    "        output = sae(input)\n",
    "        target.require_grad = False\n",
    "        output[target == 0] = 0\n",
    "        loss = criterion(output, target)\n",
    "        mean_corrector = nb_movies/float(torch.sum(target.data > 0) + 1e-10)\n",
    "        test_loss += np.sqrt(loss.data*mean_corrector)\n",
    "        s += 1.\n",
    "print('test loss: '+str(test_loss/s))"
   ]
  },
  {
   "cell_type": "code",
   "execution_count": null,
   "metadata": {},
   "outputs": [],
   "source": []
  }
 ],
 "metadata": {
  "kernelspec": {
   "display_name": "Python [conda env:SidEnvo] *",
   "language": "python",
   "name": "conda-env-SidEnvo-py"
  },
  "language_info": {
   "codemirror_mode": {
    "name": "ipython",
    "version": 3
   },
   "file_extension": ".py",
   "mimetype": "text/x-python",
   "name": "python",
   "nbconvert_exporter": "python",
   "pygments_lexer": "ipython3",
   "version": "3.7.7"
  }
 },
 "nbformat": 4,
 "nbformat_minor": 4
}
